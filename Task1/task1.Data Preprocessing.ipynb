{
  "nbformat": 4,
  "nbformat_minor": 0,
  "metadata": {
    "colab": {
      "provenance": []
    },
    "kernelspec": {
      "name": "python3",
      "display_name": "Python 3"
    },
    "language_info": {
      "name": "python"
    }
  },
  "cells": [
    {
      "cell_type": "code",
      "source": [
        "import pandas as pd\n",
        "from sklearn.model_selection import train_test_split\n",
        "from sklearn.preprocessing import StandardScaler\n"
      ],
      "metadata": {
        "id": "nDVvYVDtrDE3"
      },
      "execution_count": 32,
      "outputs": []
    },
    {
      "cell_type": "code",
      "source": [
        "data = pd.read_csv(\"/content/churn-bigml-20.csv\")\n",
        "\n",
        "print(data.head())\n",
        "print(data.info())\n"
      ],
      "metadata": {
        "colab": {
          "base_uri": "https://localhost:8080/"
        },
        "id": "Kqai2vifrFf8",
        "outputId": "e8353816-f4c8-494d-8b46-1ed0241da42d"
      },
      "execution_count": 33,
      "outputs": [
        {
          "output_type": "stream",
          "name": "stdout",
          "text": [
            "  State  Account length  Area code International plan Voice mail plan  \\\n",
            "0    LA             117        408                 No              No   \n",
            "1    IN              65        415                 No              No   \n",
            "2    NY             161        415                 No              No   \n",
            "3    SC             111        415                 No              No   \n",
            "4    HI              49        510                 No              No   \n",
            "\n",
            "   Number vmail messages  Total day minutes  Total day calls  \\\n",
            "0                      0              184.5               97   \n",
            "1                      0              129.1              137   \n",
            "2                      0              332.9               67   \n",
            "3                      0              110.4              103   \n",
            "4                      0              119.3              117   \n",
            "\n",
            "   Total day charge  Total eve minutes  Total eve calls  Total eve charge  \\\n",
            "0             31.37              351.6               80             29.89   \n",
            "1             21.95              228.5               83             19.42   \n",
            "2             56.59              317.8               97             27.01   \n",
            "3             18.77              137.3              102             11.67   \n",
            "4             20.28              215.1              109             18.28   \n",
            "\n",
            "   Total night minutes  Total night calls  Total night charge  \\\n",
            "0                215.8                 90                9.71   \n",
            "1                208.8                111                9.40   \n",
            "2                160.6                128                7.23   \n",
            "3                189.6                105                8.53   \n",
            "4                178.7                 90                8.04   \n",
            "\n",
            "   Total intl minutes  Total intl calls  Total intl charge  \\\n",
            "0                 8.7                 4               2.35   \n",
            "1                12.7                 6               3.43   \n",
            "2                 5.4                 9               1.46   \n",
            "3                 7.7                 6               2.08   \n",
            "4                11.1                 1               3.00   \n",
            "\n",
            "   Customer service calls  Churn  \n",
            "0                       1  False  \n",
            "1                       4   True  \n",
            "2                       4   True  \n",
            "3                       2  False  \n",
            "4                       1  False  \n",
            "<class 'pandas.core.frame.DataFrame'>\n",
            "RangeIndex: 667 entries, 0 to 666\n",
            "Data columns (total 20 columns):\n",
            " #   Column                  Non-Null Count  Dtype  \n",
            "---  ------                  --------------  -----  \n",
            " 0   State                   667 non-null    object \n",
            " 1   Account length          667 non-null    int64  \n",
            " 2   Area code               667 non-null    int64  \n",
            " 3   International plan      667 non-null    object \n",
            " 4   Voice mail plan         667 non-null    object \n",
            " 5   Number vmail messages   667 non-null    int64  \n",
            " 6   Total day minutes       667 non-null    float64\n",
            " 7   Total day calls         667 non-null    int64  \n",
            " 8   Total day charge        667 non-null    float64\n",
            " 9   Total eve minutes       667 non-null    float64\n",
            " 10  Total eve calls         667 non-null    int64  \n",
            " 11  Total eve charge        667 non-null    float64\n",
            " 12  Total night minutes     667 non-null    float64\n",
            " 13  Total night calls       667 non-null    int64  \n",
            " 14  Total night charge      667 non-null    float64\n",
            " 15  Total intl minutes      667 non-null    float64\n",
            " 16  Total intl calls        667 non-null    int64  \n",
            " 17  Total intl charge       667 non-null    float64\n",
            " 18  Customer service calls  667 non-null    int64  \n",
            " 19  Churn                   667 non-null    bool   \n",
            "dtypes: bool(1), float64(8), int64(8), object(3)\n",
            "memory usage: 99.8+ KB\n",
            "None\n"
          ]
        }
      ]
    },
    {
      "cell_type": "code",
      "source": [
        "print(\"Before encoding:\", data[\"Churn\"].unique())\n",
        "data[\"Churn\"] = data[\"Churn\"].astype(int)\n",
        "print(\"After encoding:\", data[\"Churn\"].unique())\n",
        "\n"
      ],
      "metadata": {
        "colab": {
          "base_uri": "https://localhost:8080/"
        },
        "id": "dbu9OTQzrgRB",
        "outputId": "9682ef90-1065-4652-ff76-9257d56ae895"
      },
      "execution_count": 34,
      "outputs": [
        {
          "output_type": "stream",
          "name": "stdout",
          "text": [
            "Before encoding: [False  True]\n",
            "After encoding: [0 1]\n"
          ]
        }
      ]
    },
    {
      "cell_type": "code",
      "source": [
        "cat_cols = data.select_dtypes(include=\"object\").columns\n",
        "num_cols = data.select_dtypes(include=[\"int64\", \"float64\"]).columns\n",
        "\n",
        "data[cat_cols] = data[cat_cols].apply(lambda col: col.fillna(col.mode()[0]))\n",
        "\n",
        "data[num_cols] = data[num_cols].apply(lambda col: col.fillna(col.mean()))\n",
        "\n",
        "print(\"Missing values after filling:\\n\", data.isnull().sum())\n"
      ],
      "metadata": {
        "colab": {
          "base_uri": "https://localhost:8080/"
        },
        "id": "zJyCPcE2ryFN",
        "outputId": "19874d05-be44-4157-8c8a-db5966c50b0a"
      },
      "execution_count": 35,
      "outputs": [
        {
          "output_type": "stream",
          "name": "stdout",
          "text": [
            "Missing values after filling:\n",
            " State                     0\n",
            "Account length            0\n",
            "Area code                 0\n",
            "International plan        0\n",
            "Voice mail plan           0\n",
            "Number vmail messages     0\n",
            "Total day minutes         0\n",
            "Total day calls           0\n",
            "Total day charge          0\n",
            "Total eve minutes         0\n",
            "Total eve calls           0\n",
            "Total eve charge          0\n",
            "Total night minutes       0\n",
            "Total night calls         0\n",
            "Total night charge        0\n",
            "Total intl minutes        0\n",
            "Total intl calls          0\n",
            "Total intl charge         0\n",
            "Customer service calls    0\n",
            "Churn                     0\n",
            "dtype: int64\n"
          ]
        }
      ]
    },
    {
      "cell_type": "code",
      "source": [
        "data = pd.get_dummies(data, drop_first=True)\n",
        "\n",
        "print(\"Shape after encoding:\", data.shape)\n"
      ],
      "metadata": {
        "colab": {
          "base_uri": "https://localhost:8080/"
        },
        "id": "lRauBTFxr0w6",
        "outputId": "87228871-e76e-4bdf-f6d0-e0809b391aab"
      },
      "execution_count": 36,
      "outputs": [
        {
          "output_type": "stream",
          "name": "stdout",
          "text": [
            "Shape after encoding: (667, 69)\n"
          ]
        }
      ]
    },
    {
      "cell_type": "code",
      "source": [
        "X = data.drop(columns=\"Churn\")\n",
        "y = data[\"Churn\"]\n",
        "\n",
        "print(\"Features shape:\", X.shape)\n",
        "print(\"Target shape:\", y.shape)\n"
      ],
      "metadata": {
        "colab": {
          "base_uri": "https://localhost:8080/"
        },
        "id": "1l336-Der9u4",
        "outputId": "e099f819-bfbb-4d96-b18b-6d25c6cf120e"
      },
      "execution_count": 37,
      "outputs": [
        {
          "output_type": "stream",
          "name": "stdout",
          "text": [
            "Features shape: (667, 68)\n",
            "Target shape: (667,)\n"
          ]
        }
      ]
    },
    {
      "cell_type": "code",
      "source": [
        "X_train, X_test, y_train, y_test = train_test_split(\n",
        "    X, y, test_size=0.2, random_state=42\n",
        ")\n",
        "\n",
        "print(\"Training set shape:\", X_train.shape)\n",
        "print(\"Testing set shape:\", X_test.shape)\n"
      ],
      "metadata": {
        "colab": {
          "base_uri": "https://localhost:8080/"
        },
        "id": "CLCFTecQsBy0",
        "outputId": "78a6aa93-be31-4caf-a106-9bc80aed069d"
      },
      "execution_count": 38,
      "outputs": [
        {
          "output_type": "stream",
          "name": "stdout",
          "text": [
            "Training set shape: (533, 68)\n",
            "Testing set shape: (134, 68)\n"
          ]
        }
      ]
    },
    {
      "cell_type": "code",
      "source": [
        "scaler = StandardScaler()\n",
        "X_train = pd.DataFrame(scaler.fit_transform(X_train),\n",
        "                       columns=X_train.columns,\n",
        "                       index=X_train.index)\n",
        "X_test = pd.DataFrame(scaler.transform(X_test),\n",
        "                      columns=X_test.columns,\n",
        "                      index=X_test.index)\n",
        "\n",
        "print(\"First 5 rows of scaled training set:\\n\", X_train.head())\n"
      ],
      "metadata": {
        "colab": {
          "base_uri": "https://localhost:8080/"
        },
        "id": "DuofxXnRsGW0",
        "outputId": "3db1e5fa-f739-41bc-f12d-4cbe1e4ad500"
      },
      "execution_count": 39,
      "outputs": [
        {
          "output_type": "stream",
          "name": "stdout",
          "text": [
            "First 5 rows of scaled training set:\n",
            "      Account length  Area code  Number vmail messages  Total day minutes  \\\n",
            "234       -1.179904   1.738958              -0.595854           0.150424   \n",
            "398       -0.080576  -0.684404              -0.595854          -1.972756   \n",
            "278       -0.911179  -0.684404              -0.595854          -1.670984   \n",
            "61         0.432443  -0.684404              -0.595854          -0.183680   \n",
            "145        1.776066  -0.518095              -0.595854           0.764745   \n",
            "\n",
            "     Total day calls  Total day charge  Total eve minutes  Total eve calls  \\\n",
            "234        -0.060953          0.150366          -1.708028        -0.069068   \n",
            "398        -0.354521         -1.972374           0.228910         0.088029   \n",
            "278        -1.235225         -1.671238           1.154491         0.559321   \n",
            "61          0.330470         -0.183524           2.919878        -1.692405   \n",
            "145        -1.235225          0.764260           0.204973         1.606635   \n",
            "\n",
            "     Total eve charge  Total night minutes  ...  State_TX  State_UT  State_VA  \\\n",
            "234         -1.708638             1.020930  ... -0.158114 -0.131056 -0.123443   \n",
            "398          0.229869             0.671305  ... -0.158114 -0.131056 -0.123443   \n",
            "278          1.154532            -0.262375  ... -0.158114 -0.131056 -0.123443   \n",
            "61           2.919372             2.009175  ... -0.158114 -0.131056 -0.123443   \n",
            "145          0.204054            -0.872703  ... -0.158114 -0.131056 -0.123443   \n",
            "\n",
            "     State_VT  State_WA  State_WI  State_WV  State_WY  International plan_Yes  \\\n",
            "234 -0.158114 -0.175920 -0.158114 -0.164241 -0.131056               -0.307337   \n",
            "398 -0.158114  5.684409 -0.158114 -0.164241 -0.131056               -0.307337   \n",
            "278 -0.158114 -0.175920 -0.158114 -0.164241 -0.131056               -0.307337   \n",
            "61  -0.158114 -0.175920 -0.158114 -0.164241 -0.131056               -0.307337   \n",
            "145 -0.158114 -0.175920 -0.158114 -0.164241 -0.131056               -0.307337   \n",
            "\n",
            "     Voice mail plan_Yes  \n",
            "234            -0.622913  \n",
            "398            -0.622913  \n",
            "278            -0.622913  \n",
            "61             -0.622913  \n",
            "145            -0.622913  \n",
            "\n",
            "[5 rows x 68 columns]\n"
          ]
        }
      ]
    }
  ]
}